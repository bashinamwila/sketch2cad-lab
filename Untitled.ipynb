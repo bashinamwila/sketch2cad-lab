{
 "cells": [
  {
   "cell_type": "code",
   "execution_count": null,
   "id": "f26693ca-0c85-45a1-a49f-9b47743b6c39",
   "metadata": {},
   "outputs": [],
   "source": [
    "import numpy as np\n",
    "np.arrange(9).reshape(3,"
   ]
  }
 ],
 "metadata": {
  "kernelspec": {
   "display_name": "Python 3 (ipykernel)",
   "language": "python",
   "name": "python3"
  },
  "language_info": {
   "codemirror_mode": {
    "name": "ipython",
    "version": 3
   },
   "file_extension": ".py",
   "mimetype": "text/x-python",
   "name": "python",
   "nbconvert_exporter": "python",
   "pygments_lexer": "ipython3",
   "version": "3.13.3"
  }
 },
 "nbformat": 4,
 "nbformat_minor": 5
}
